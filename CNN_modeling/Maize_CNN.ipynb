{
  "nbformat": 4,
  "nbformat_minor": 0,
  "metadata": {
    "colab": {
      "provenance": []
    },
    "kernelspec": {
      "name": "python3",
      "display_name": "Python 3"
    },
    "language_info": {
      "name": "python"
    }
  },
  "cells": [
    {
      "cell_type": "markdown",
      "source": [
        "In this notebook, I am creating a convolutional neural network using pytorch that will input images of maize that are afflicted with various diseases, and use this information to detect disease in Maize"
      ],
      "metadata": {
        "id": "z4NyK9XvhuI-"
      }
    },
    {
      "cell_type": "markdown",
      "source": [
        "Imports:"
      ],
      "metadata": {
        "id": "xZa7lZ_WiDGy"
      }
    },
    {
      "cell_type": "code",
      "source": [
        "import pandas as pd\n",
        "from torchvision.datasets import ImageFolder\n",
        "from torchvision import transforms\n",
        "import matplotlib.pyplot as plt\n",
        "from torchmetrics import Precision, Recall"
      ],
      "metadata": {
        "id": "7LLPTYQviB4u"
      },
      "execution_count": null,
      "outputs": []
    },
    {
      "cell_type": "markdown",
      "source": [
        "Data augmentation that will be used for the imbalanced classes"
      ],
      "metadata": {
        "id": "8fSEoDShjFSM"
      }
    },
    {
      "cell_type": "code",
      "source": [
        "train_transforms = transforms.Compose([\n",
        "    transforms.RandomHorizontalFlip(),\n",
        "    transforms.RandomRotation(45),\n",
        "    transforms.ToTensor(),\n",
        "    transforms.Resize((128,128)),\n",
        "  ])"
      ],
      "metadata": {
        "id": "7nWrapiKjKix"
      },
      "execution_count": null,
      "outputs": []
    },
    {
      "cell_type": "code",
      "source": [
        "dataset_train = ImageFolder('maize data path', transform=train_transforms)"
      ],
      "metadata": {
        "id": "TUjdyyKwjgnr"
      },
      "execution_count": null,
      "outputs": []
    },
    {
      "cell_type": "markdown",
      "source": [
        "Creating the Class Net for the Convolutional Neural Network"
      ],
      "metadata": {
        "id": "-N8RkAi5j9XP"
      }
    },
    {
      "cell_type": "code",
      "source": [
        "class Net(nn.Module):\n",
        "\n",
        "  #initiate the neural network that will be used to process and extract information from the maize images\n",
        "  def __init__(self, num_classes):\n",
        "    super().__init__()\n",
        "\n",
        "    self.feature_extractor = nn.Sequential(\n",
        "        nn.Conv2d(3, 32, kernel_size=3, padding=1),\n",
        "        nn.ELU(),\n",
        "        nn.MaxPool2d(kernel_size=2),\n",
        "        nn.Conv2d(32, 64, kernel_size=3, padding=1),\n",
        "        nn.ELU(),\n",
        "        nn.MaxPool2d(kernel_size=2),\n",
        "        nn.Flatten(),\n",
        "    )\n",
        "    self.classifier = nn.Linear(64*16*16, num_classes)\n",
        "\n",
        "  def forward(self, x):\n",
        "\n",
        "    x = self.feature_extractor(x)\n",
        "    x = self.classifier(x)\n",
        "    return x"
      ],
      "metadata": {
        "id": "cZER4_-skBvL"
      },
      "execution_count": null,
      "outputs": []
    },
    {
      "cell_type": "markdown",
      "source": [
        "Establish training loop with loss criterion and optimizer set up"
      ],
      "metadata": {
        "id": "0ORUk_UIACEv"
      }
    },
    {
      "cell_type": "code",
      "source": [
        "net = Net(num_classes= ***)\n",
        "\n",
        "criterion = nn.CrossEntropyLoss()\n",
        "\n",
        "optimizer = optim.Adam(net.parameters(), lr=0.001)\n",
        "\n",
        "for epoch in range(10):\n",
        "  for images, labels in dataloader_train:\n",
        "    optimizer.zer_grad()\n",
        "    outputs = net(images)\n",
        "    loss = criterion(outputs, labels)\n",
        "    loss.backward()\n",
        "    optimizer.step()"
      ],
      "metadata": {
        "id": "KMqq5XN6AH6w"
      },
      "execution_count": null,
      "outputs": []
    },
    {
      "cell_type": "markdown",
      "source": [
        "Evaluation Loop"
      ],
      "metadata": {
        "id": "29ljj6r9B7ae"
      }
    },
    {
      "cell_type": "code",
      "source": [
        "metric_precision = Precision(task='multiclass', num_classes=***, average=\"macro\")\n",
        "\n",
        "metric_recall = Recall(task='multiclass', num_classes=***, average='macro')\n",
        "\n",
        "net.eval()\n",
        "\n",
        "with torch.no_grad():\n",
        "  for images, labels in dataloader_test:\n",
        "    outputs = net(images)\n",
        "    _, preds = torch.max(outputs, 1)\n",
        "    metric_precision(preds, labels)\n",
        "    metric_recall(preds, labels)\n",
        "\n",
        "precision = metric_precision.compute()\n",
        "recall = metric_recall.compute()"
      ],
      "metadata": {
        "id": "gODDa2zDB9By"
      },
      "execution_count": null,
      "outputs": []
    }
  ]
}
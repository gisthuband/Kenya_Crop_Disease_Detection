{
 "cells": [
  {
   "cell_type": "code",
   "execution_count": 1,
   "id": "ea72d115",
   "metadata": {},
   "outputs": [],
   "source": [
    "#Import the required libraries\n",
    "import os\n",
    "import numpy as np \n",
    "import pandas as pd\n",
    "import string\n",
    "import seaborn as sns\n",
    "import matplotlib.pyplot as plt\n",
    "from matplotlib import cm\n",
    "from pathlib import Path\n",
    "import shutil\n",
    "import random\n",
    "import matplotlib.image as mpimg\n",
    "import PIL\n",
    "from PIL import Image\n",
    "from matplotlib import pyplot as plt\n",
    "import seaborn as sns"
   ]
  },
  {
   "cell_type": "code",
   "execution_count": 2,
   "id": "62496844",
   "metadata": {},
   "outputs": [],
   "source": [
    "# read the csv file\n",
    "df = pd.read_csv('Tomato_metadata.csv')"
   ]
  },
  {
   "cell_type": "code",
   "execution_count": 3,
   "id": "aab90f51",
   "metadata": {},
   "outputs": [
    {
     "data": {
      "text/plain": [
       "13737"
      ]
     },
     "execution_count": 3,
     "metadata": {},
     "output_type": "execute_result"
    }
   ],
   "source": [
    "# Check the number of images in df\n",
    "len(df)"
   ]
  },
  {
   "cell_type": "code",
   "execution_count": 4,
   "id": "161ee9e4",
   "metadata": {
    "scrolled": false
   },
   "outputs": [
    {
     "data": {
      "text/html": [
       "<div>\n",
       "<style scoped>\n",
       "    .dataframe tbody tr th:only-of-type {\n",
       "        vertical-align: middle;\n",
       "    }\n",
       "\n",
       "    .dataframe tbody tr th {\n",
       "        vertical-align: top;\n",
       "    }\n",
       "\n",
       "    .dataframe thead th {\n",
       "        text-align: right;\n",
       "    }\n",
       "</style>\n",
       "<table border=\"1\" class=\"dataframe\">\n",
       "  <thead>\n",
       "    <tr style=\"text-align: right;\">\n",
       "      <th></th>\n",
       "      <th>path</th>\n",
       "      <th>datapoint_id</th>\n",
       "      <th>dagshub_download_url</th>\n",
       "      <th>Valid</th>\n",
       "      <th>disease</th>\n",
       "      <th>height</th>\n",
       "      <th>media type</th>\n",
       "      <th>size</th>\n",
       "      <th>width</th>\n",
       "    </tr>\n",
       "  </thead>\n",
       "  <tbody>\n",
       "    <tr>\n",
       "      <th>0</th>\n",
       "      <td>Bacterial spot/Bs100.JPG</td>\n",
       "      <td>81502719</td>\n",
       "      <td>https://dagshub.com/api/v1/repos/Omdena/KenyaC...</td>\n",
       "      <td>True</td>\n",
       "      <td>Bacterial Spot</td>\n",
       "      <td>227</td>\n",
       "      <td>image/jpeg</td>\n",
       "      <td>9550</td>\n",
       "      <td>227</td>\n",
       "    </tr>\n",
       "    <tr>\n",
       "      <th>1</th>\n",
       "      <td>Bacterial spot/Bs101.JPG</td>\n",
       "      <td>81502720</td>\n",
       "      <td>https://dagshub.com/api/v1/repos/Omdena/KenyaC...</td>\n",
       "      <td>True</td>\n",
       "      <td>Bacterial Spot</td>\n",
       "      <td>227</td>\n",
       "      <td>image/jpeg</td>\n",
       "      <td>8386</td>\n",
       "      <td>227</td>\n",
       "    </tr>\n",
       "    <tr>\n",
       "      <th>2</th>\n",
       "      <td>Bacterial spot/Bs102.JPG</td>\n",
       "      <td>81502721</td>\n",
       "      <td>https://dagshub.com/api/v1/repos/Omdena/KenyaC...</td>\n",
       "      <td>True</td>\n",
       "      <td>Bacterial Spot</td>\n",
       "      <td>227</td>\n",
       "      <td>image/jpeg</td>\n",
       "      <td>10309</td>\n",
       "      <td>227</td>\n",
       "    </tr>\n",
       "    <tr>\n",
       "      <th>3</th>\n",
       "      <td>Bacterial spot/Bs103.JPG</td>\n",
       "      <td>81502722</td>\n",
       "      <td>https://dagshub.com/api/v1/repos/Omdena/KenyaC...</td>\n",
       "      <td>True</td>\n",
       "      <td>Bacterial Spot</td>\n",
       "      <td>227</td>\n",
       "      <td>image/jpeg</td>\n",
       "      <td>10036</td>\n",
       "      <td>227</td>\n",
       "    </tr>\n",
       "    <tr>\n",
       "      <th>4</th>\n",
       "      <td>Bacterial spot/Bs104.JPG</td>\n",
       "      <td>81502723</td>\n",
       "      <td>https://dagshub.com/api/v1/repos/Omdena/KenyaC...</td>\n",
       "      <td>True</td>\n",
       "      <td>Bacterial Spot</td>\n",
       "      <td>227</td>\n",
       "      <td>image/jpeg</td>\n",
       "      <td>9845</td>\n",
       "      <td>227</td>\n",
       "    </tr>\n",
       "  </tbody>\n",
       "</table>\n",
       "</div>"
      ],
      "text/plain": [
       "                       path  datapoint_id  \\\n",
       "0  Bacterial spot/Bs100.JPG      81502719   \n",
       "1  Bacterial spot/Bs101.JPG      81502720   \n",
       "2  Bacterial spot/Bs102.JPG      81502721   \n",
       "3  Bacterial spot/Bs103.JPG      81502722   \n",
       "4  Bacterial spot/Bs104.JPG      81502723   \n",
       "\n",
       "                                dagshub_download_url  Valid         disease  \\\n",
       "0  https://dagshub.com/api/v1/repos/Omdena/KenyaC...   True  Bacterial Spot   \n",
       "1  https://dagshub.com/api/v1/repos/Omdena/KenyaC...   True  Bacterial Spot   \n",
       "2  https://dagshub.com/api/v1/repos/Omdena/KenyaC...   True  Bacterial Spot   \n",
       "3  https://dagshub.com/api/v1/repos/Omdena/KenyaC...   True  Bacterial Spot   \n",
       "4  https://dagshub.com/api/v1/repos/Omdena/KenyaC...   True  Bacterial Spot   \n",
       "\n",
       "   height  media type   size  width  \n",
       "0     227  image/jpeg   9550    227  \n",
       "1     227  image/jpeg   8386    227  \n",
       "2     227  image/jpeg  10309    227  \n",
       "3     227  image/jpeg  10036    227  \n",
       "4     227  image/jpeg   9845    227  "
      ]
     },
     "execution_count": 4,
     "metadata": {},
     "output_type": "execute_result"
    }
   ],
   "source": [
    "df.head()"
   ]
  },
  {
   "cell_type": "code",
   "execution_count": 5,
   "id": "4d7469c3",
   "metadata": {},
   "outputs": [],
   "source": [
    "# Rename so columns\n",
    "df = df.rename(columns={'path': 'name','disease': 'label'})"
   ]
  },
  {
   "cell_type": "code",
   "execution_count": 6,
   "id": "d1c0106f",
   "metadata": {},
   "outputs": [],
   "source": [
    "# I want .jpg type of images \n",
    "df['name'] = df['name'].str.replace('.JPG', '.jpg', regex=False) \\\n",
    "                               .str.replace('.JPEG', '.jpg', regex=False) \\\n",
    "                               .str.replace('jpeg', 'jpg', regex=True)"
   ]
  },
  {
   "cell_type": "code",
   "execution_count": 7,
   "id": "d1397026",
   "metadata": {
    "scrolled": true
   },
   "outputs": [
    {
     "data": {
      "text/html": [
       "<div>\n",
       "<style scoped>\n",
       "    .dataframe tbody tr th:only-of-type {\n",
       "        vertical-align: middle;\n",
       "    }\n",
       "\n",
       "    .dataframe tbody tr th {\n",
       "        vertical-align: top;\n",
       "    }\n",
       "\n",
       "    .dataframe thead th {\n",
       "        text-align: right;\n",
       "    }\n",
       "</style>\n",
       "<table border=\"1\" class=\"dataframe\">\n",
       "  <thead>\n",
       "    <tr style=\"text-align: right;\">\n",
       "      <th></th>\n",
       "      <th>name</th>\n",
       "      <th>datapoint_id</th>\n",
       "      <th>dagshub_download_url</th>\n",
       "      <th>Valid</th>\n",
       "      <th>label</th>\n",
       "      <th>height</th>\n",
       "      <th>media type</th>\n",
       "      <th>size</th>\n",
       "      <th>width</th>\n",
       "    </tr>\n",
       "  </thead>\n",
       "  <tbody>\n",
       "    <tr>\n",
       "      <th>0</th>\n",
       "      <td>Bacterial spot/Bs100.jpg</td>\n",
       "      <td>81502719</td>\n",
       "      <td>https://dagshub.com/api/v1/repos/Omdena/KenyaC...</td>\n",
       "      <td>True</td>\n",
       "      <td>Bacterial Spot</td>\n",
       "      <td>227</td>\n",
       "      <td>image/jpeg</td>\n",
       "      <td>9550</td>\n",
       "      <td>227</td>\n",
       "    </tr>\n",
       "    <tr>\n",
       "      <th>1</th>\n",
       "      <td>Bacterial spot/Bs101.jpg</td>\n",
       "      <td>81502720</td>\n",
       "      <td>https://dagshub.com/api/v1/repos/Omdena/KenyaC...</td>\n",
       "      <td>True</td>\n",
       "      <td>Bacterial Spot</td>\n",
       "      <td>227</td>\n",
       "      <td>image/jpeg</td>\n",
       "      <td>8386</td>\n",
       "      <td>227</td>\n",
       "    </tr>\n",
       "    <tr>\n",
       "      <th>2</th>\n",
       "      <td>Bacterial spot/Bs102.jpg</td>\n",
       "      <td>81502721</td>\n",
       "      <td>https://dagshub.com/api/v1/repos/Omdena/KenyaC...</td>\n",
       "      <td>True</td>\n",
       "      <td>Bacterial Spot</td>\n",
       "      <td>227</td>\n",
       "      <td>image/jpeg</td>\n",
       "      <td>10309</td>\n",
       "      <td>227</td>\n",
       "    </tr>\n",
       "    <tr>\n",
       "      <th>3</th>\n",
       "      <td>Bacterial spot/Bs103.jpg</td>\n",
       "      <td>81502722</td>\n",
       "      <td>https://dagshub.com/api/v1/repos/Omdena/KenyaC...</td>\n",
       "      <td>True</td>\n",
       "      <td>Bacterial Spot</td>\n",
       "      <td>227</td>\n",
       "      <td>image/jpeg</td>\n",
       "      <td>10036</td>\n",
       "      <td>227</td>\n",
       "    </tr>\n",
       "    <tr>\n",
       "      <th>4</th>\n",
       "      <td>Bacterial spot/Bs104.jpg</td>\n",
       "      <td>81502723</td>\n",
       "      <td>https://dagshub.com/api/v1/repos/Omdena/KenyaC...</td>\n",
       "      <td>True</td>\n",
       "      <td>Bacterial Spot</td>\n",
       "      <td>227</td>\n",
       "      <td>image/jpeg</td>\n",
       "      <td>9845</td>\n",
       "      <td>227</td>\n",
       "    </tr>\n",
       "  </tbody>\n",
       "</table>\n",
       "</div>"
      ],
      "text/plain": [
       "                       name  datapoint_id  \\\n",
       "0  Bacterial spot/Bs100.jpg      81502719   \n",
       "1  Bacterial spot/Bs101.jpg      81502720   \n",
       "2  Bacterial spot/Bs102.jpg      81502721   \n",
       "3  Bacterial spot/Bs103.jpg      81502722   \n",
       "4  Bacterial spot/Bs104.jpg      81502723   \n",
       "\n",
       "                                dagshub_download_url  Valid           label  \\\n",
       "0  https://dagshub.com/api/v1/repos/Omdena/KenyaC...   True  Bacterial Spot   \n",
       "1  https://dagshub.com/api/v1/repos/Omdena/KenyaC...   True  Bacterial Spot   \n",
       "2  https://dagshub.com/api/v1/repos/Omdena/KenyaC...   True  Bacterial Spot   \n",
       "3  https://dagshub.com/api/v1/repos/Omdena/KenyaC...   True  Bacterial Spot   \n",
       "4  https://dagshub.com/api/v1/repos/Omdena/KenyaC...   True  Bacterial Spot   \n",
       "\n",
       "   height  media type   size  width  \n",
       "0     227  image/jpeg   9550    227  \n",
       "1     227  image/jpeg   8386    227  \n",
       "2     227  image/jpeg  10309    227  \n",
       "3     227  image/jpeg  10036    227  \n",
       "4     227  image/jpeg   9845    227  "
      ]
     },
     "execution_count": 7,
     "metadata": {},
     "output_type": "execute_result"
    }
   ],
   "source": [
    "# Verify the images\n",
    "df.head()"
   ]
  },
  {
   "cell_type": "code",
   "execution_count": 8,
   "id": "afe9bd3f",
   "metadata": {
    "scrolled": true
   },
   "outputs": [
    {
     "data": {
      "text/plain": [
       "['Bacterial Spot',\n",
       " 'Black Mold',\n",
       " 'Gray spot',\n",
       " 'Late Blight',\n",
       " 'Early Blight',\n",
       " 'Leaf Mold',\n",
       " 'Septoria leaf spot',\n",
       " 'Target Spot',\n",
       " 'Yellow_Leaf_Virus',\n",
       " 'Mosaic Virus',\n",
       " 'Healthy']"
      ]
     },
     "execution_count": 8,
     "metadata": {},
     "output_type": "execute_result"
    }
   ],
   "source": [
    "# Categories of diseases in the dataset\n",
    "list(df.label.unique())"
   ]
  },
  {
   "cell_type": "code",
   "execution_count": 9,
   "id": "b8b88786",
   "metadata": {},
   "outputs": [
    {
     "data": {
      "text/plain": [
       "Yellow_Leaf_Virus     5056\n",
       "Late Blight           1932\n",
       "Septoria leaf spot    1771\n",
       "Healthy               1671\n",
       "Target Spot           1404\n",
       "Leaf Mold              922\n",
       "Early Blight           428\n",
       "Mosaic Virus           372\n",
       "Bacterial Spot          88\n",
       "Black Mold              53\n",
       "Gray spot               40\n",
       "Name: label, dtype: int64"
      ]
     },
     "execution_count": 9,
     "metadata": {},
     "output_type": "execute_result"
    }
   ],
   "source": [
    "# Checck the values counts\n",
    "df.label.value_counts()"
   ]
  },
  {
   "cell_type": "code",
   "execution_count": 10,
   "id": "aee65858",
   "metadata": {
    "scrolled": true
   },
   "outputs": [
    {
     "data": {
      "image/png": "[encoded data removed]",
      "text/plain": [
       "<Figure size 432x288 with 1 Axes>"
      ]
     },
     "metadata": {
      "needs_background": "light"
     },
     "output_type": "display_data"
    }
   ],
   "source": [
    "# Plot bar chart to check the distribution\n",
    "df.label.value_counts().plot(kind='bar')\n",
    "plt.title('Photos categories Tomato images')\n",
    "plt.show()"
   ]
  },
  {
   "cell_type": "code",
   "execution_count": 11,
   "id": "c2c53b30",
   "metadata": {
    "scrolled": false
   },
   "outputs": [
    {
     "data": {
      "text/html": [
       "<div>\n",
       "<style scoped>\n",
       "    .dataframe tbody tr th:only-of-type {\n",
       "        vertical-align: middle;\n",
       "    }\n",
       "\n",
       "    .dataframe tbody tr th {\n",
       "        vertical-align: top;\n",
       "    }\n",
       "\n",
       "    .dataframe thead th {\n",
       "        text-align: right;\n",
       "    }\n",
       "</style>\n",
       "<table border=\"1\" class=\"dataframe\">\n",
       "  <thead>\n",
       "    <tr style=\"text-align: right;\">\n",
       "      <th></th>\n",
       "      <th>name</th>\n",
       "      <th>label</th>\n",
       "    </tr>\n",
       "  </thead>\n",
       "  <tbody>\n",
       "    <tr>\n",
       "      <th>10465</th>\n",
       "      <td>c4c6fad3-9805-45ff-bf51-3ca5f7d4a079___UF.GRC_...</td>\n",
       "      <td>Yellow_Leaf_Virus</td>\n",
       "    </tr>\n",
       "    <tr>\n",
       "      <th>4886</th>\n",
       "      <td>d0c0535c-8273-4a9a-9fea-8ab8402e3f92___Keller....</td>\n",
       "      <td>Septoria leaf spot</td>\n",
       "    </tr>\n",
       "    <tr>\n",
       "      <th>5713</th>\n",
       "      <td>5eee971d-a69d-4f1d-9e6f-5d3f59ed2e3d___Com.G_T...</td>\n",
       "      <td>Target Spot</td>\n",
       "    </tr>\n",
       "    <tr>\n",
       "      <th>9281</th>\n",
       "      <td>809d2867-5d16-452e-8759-07c763bd2120___YLCV_GC...</td>\n",
       "      <td>Yellow_Leaf_Virus</td>\n",
       "    </tr>\n",
       "    <tr>\n",
       "      <th>7814</th>\n",
       "      <td>373bf7cd-8cf2-46dd-accb-71bd92a75e25___YLCV_GC...</td>\n",
       "      <td>Yellow_Leaf_Virus</td>\n",
       "    </tr>\n",
       "    <tr>\n",
       "      <th>10775</th>\n",
       "      <td>d366aebe-5271-46fa-90e6-9e04d6566b87___YLCV_NR...</td>\n",
       "      <td>Yellow_Leaf_Virus</td>\n",
       "    </tr>\n",
       "    <tr>\n",
       "      <th>7794</th>\n",
       "      <td>3676b045-d562-4423-8033-8b6880b0e065___YLCV_NR...</td>\n",
       "      <td>Yellow_Leaf_Virus</td>\n",
       "    </tr>\n",
       "    <tr>\n",
       "      <th>7196</th>\n",
       "      <td>1a799611-3397-4cce-843f-f62058b5a1e4___YLCV_GC...</td>\n",
       "      <td>Yellow_Leaf_Virus</td>\n",
       "    </tr>\n",
       "    <tr>\n",
       "      <th>6581</th>\n",
       "      <td>f5b4a026-a578-4dac-a3ba-fc960a573590___Com.G_T...</td>\n",
       "      <td>Target Spot</td>\n",
       "    </tr>\n",
       "    <tr>\n",
       "      <th>8413</th>\n",
       "      <td>5857bdc2-f4f7-4fc2-a9ef-006b34900f82___YLCV_NR...</td>\n",
       "      <td>Yellow_Leaf_Virus</td>\n",
       "    </tr>\n",
       "  </tbody>\n",
       "</table>\n",
       "</div>"
      ],
      "text/plain": [
       "                                                    name               label\n",
       "10465  c4c6fad3-9805-45ff-bf51-3ca5f7d4a079___UF.GRC_...   Yellow_Leaf_Virus\n",
       "4886   d0c0535c-8273-4a9a-9fea-8ab8402e3f92___Keller....  Septoria leaf spot\n",
       "5713   5eee971d-a69d-4f1d-9e6f-5d3f59ed2e3d___Com.G_T...         Target Spot\n",
       "9281   809d2867-5d16-452e-8759-07c763bd2120___YLCV_GC...   Yellow_Leaf_Virus\n",
       "7814   373bf7cd-8cf2-46dd-accb-71bd92a75e25___YLCV_GC...   Yellow_Leaf_Virus\n",
       "10775  d366aebe-5271-46fa-90e6-9e04d6566b87___YLCV_NR...   Yellow_Leaf_Virus\n",
       "7794   3676b045-d562-4423-8033-8b6880b0e065___YLCV_NR...   Yellow_Leaf_Virus\n",
       "7196   1a799611-3397-4cce-843f-f62058b5a1e4___YLCV_GC...   Yellow_Leaf_Virus\n",
       "6581   f5b4a026-a578-4dac-a3ba-fc960a573590___Com.G_T...         Target Spot\n",
       "8413   5857bdc2-f4f7-4fc2-a9ef-006b34900f82___YLCV_NR...   Yellow_Leaf_Virus"
      ]
     },
     "execution_count": 11,
     "metadata": {},
     "output_type": "execute_result"
    }
   ],
   "source": [
    "# Strip the last part of the name for example Bacterial spot/Bs100.jpg I want to replace by Bs100.jpg \n",
    "df['name'] = df['name'].apply(lambda x: x.split('/')[-1])\n",
    "\n",
    "# Create a new dataset X with only \"name\" and \"label\" columns\n",
    "X=df[['name', 'label']]\n",
    "# Check the same data\n",
    "X.sample(10)"
   ]
  },
  {
   "cell_type": "code",
   "execution_count": 12,
   "id": "f8f30e51",
   "metadata": {},
   "outputs": [
    {
     "data": {
      "text/plain": [
       "0"
      ]
     },
     "execution_count": 12,
     "metadata": {},
     "output_type": "execute_result"
    }
   ],
   "source": [
    "# Check for duplicated data\n",
    "X.duplicated().sum()"
   ]
  },
  {
   "cell_type": "code",
   "execution_count": 13,
   "id": "e65d9ea7",
   "metadata": {},
   "outputs": [
    {
     "data": {
      "text/plain": [
       "(13737, 2)"
      ]
     },
     "execution_count": 13,
     "metadata": {},
     "output_type": "execute_result"
    }
   ],
   "source": [
    "X.shape"
   ]
  },
  {
   "cell_type": "code",
   "execution_count": 14,
   "id": "48ce5810",
   "metadata": {},
   "outputs": [
    {
     "name": "stdout",
     "output_type": "stream",
     "text": [
      "All .JPG files have been renamed to .jpg.\n"
     ]
    }
   ],
   "source": [
    "from pathlib import Path\n",
    "\n",
    "# Define the folder containing the images\n",
    "folder = 'Tomato_dataset'\n",
    "img_folder = Path(folder)  # Convert to Path object\n",
    "\n",
    "# Iterate over all files with .JPG extension\n",
    "for img_path in img_folder.glob('**/*.JPG'):  # Search recursively in subdirectories\n",
    "    new_path = img_path.with_suffix('.jpg')  # Change the extension to .jpg\n",
    "    img_path.rename(new_path)  # Rename the file\n",
    "\n",
    "print(\"All .JPG files have been renamed to .jpg.\")"
   ]
  },
  {
   "cell_type": "code",
   "execution_count": 15,
   "id": "0e23c4b9",
   "metadata": {
    "scrolled": true
   },
   "outputs": [
    {
     "name": "stdout",
     "output_type": "stream",
     "text": [
      "Number of images: 13736\n"
     ]
    }
   ],
   "source": [
    "# Count the number of .jpg files in all subdirectories\n",
    "number_images = len(list(img_folder.glob('**/*.jpg')))\n",
    "print('Number of images:', number_images)"
   ]
  },
  {
   "cell_type": "code",
   "execution_count": 16,
   "id": "27a43aca",
   "metadata": {
    "scrolled": false
   },
   "outputs": [
    {
     "data": {
      "text/html": [
       "<div>\n",
       "<style scoped>\n",
       "    .dataframe tbody tr th:only-of-type {\n",
       "        vertical-align: middle;\n",
       "    }\n",
       "\n",
       "    .dataframe tbody tr th {\n",
       "        vertical-align: top;\n",
       "    }\n",
       "\n",
       "    .dataframe thead th {\n",
       "        text-align: right;\n",
       "    }\n",
       "</style>\n",
       "<table border=\"1\" class=\"dataframe\">\n",
       "  <thead>\n",
       "    <tr style=\"text-align: right;\">\n",
       "      <th></th>\n",
       "      <th>name</th>\n",
       "      <th>label</th>\n",
       "    </tr>\n",
       "  </thead>\n",
       "  <tbody>\n",
       "    <tr>\n",
       "      <th>0</th>\n",
       "      <td>Bs100.jpg</td>\n",
       "      <td>Bacterial Spot</td>\n",
       "    </tr>\n",
       "    <tr>\n",
       "      <th>1</th>\n",
       "      <td>Bs101.jpg</td>\n",
       "      <td>Bacterial Spot</td>\n",
       "    </tr>\n",
       "    <tr>\n",
       "      <th>2</th>\n",
       "      <td>Bs102.jpg</td>\n",
       "      <td>Bacterial Spot</td>\n",
       "    </tr>\n",
       "    <tr>\n",
       "      <th>3</th>\n",
       "      <td>Bs103.jpg</td>\n",
       "      <td>Bacterial Spot</td>\n",
       "    </tr>\n",
       "    <tr>\n",
       "      <th>4</th>\n",
       "      <td>Bs104.jpg</td>\n",
       "      <td>Bacterial Spot</td>\n",
       "    </tr>\n",
       "  </tbody>\n",
       "</table>\n",
       "</div>"
      ],
      "text/plain": [
       "        name           label\n",
       "0  Bs100.jpg  Bacterial Spot\n",
       "1  Bs101.jpg  Bacterial Spot\n",
       "2  Bs102.jpg  Bacterial Spot\n",
       "3  Bs103.jpg  Bacterial Spot\n",
       "4  Bs104.jpg  Bacterial Spot"
      ]
     },
     "execution_count": 16,
     "metadata": {},
     "output_type": "execute_result"
    }
   ],
   "source": [
    "# Get a set of all actual image filenames in the folder\n",
    "existing_images = {img.name for img in img_folder.glob('*')}\n",
    "\n",
    "# Filter the DataFrame by keep rows where 'photo_id' exists in the folder\n",
    "X = X[~df['name'].isin(existing_images) == False]\n",
    "\n",
    "# Reset the index\n",
    "X.reset_index(drop=True, inplace=True)\n",
    "\n",
    "# Verify the result\n",
    "X.head()"
   ]
  },
  {
   "cell_type": "code",
   "execution_count": 17,
   "id": "be6d6f10",
   "metadata": {},
   "outputs": [
    {
     "data": {
      "text/plain": [
       "(13736, 2)"
      ]
     },
     "execution_count": 17,
     "metadata": {},
     "output_type": "execute_result"
    }
   ],
   "source": [
    "X.shape"
   ]
  },
  {
   "cell_type": "code",
   "execution_count": 18,
   "id": "ac9ad306",
   "metadata": {},
   "outputs": [
    {
     "name": "stdout",
     "output_type": "stream",
     "text": [
      "Number of matching images: 13736\n",
      "Number of images in DataFrame but missing in image folder: 0\n",
      "Number of extra images in dataset but not in DataFrame: 0\n"
     ]
    }
   ],
   "source": [
    "# Get all image file names from the dataset folder (assuming .jpg extension)\n",
    "dataset_images = {img.name for img in img_folder.rglob('*.jpg')}  # Set of image filenames in the dataset\n",
    "\n",
    "# Get all image file names from the DataFrame\n",
    "X_images = set(X['name'])  # Assuming the column with image names is 'photo_id'\n",
    "\n",
    "# Check for matches\n",
    "matching_images = X_images.intersection(dataset_images)\n",
    "missing_in_dataset = X_images - dataset_images\n",
    "extra_in_dataset = dataset_images - X_images\n",
    "\n",
    "# Print results\n",
    "print(f\"Number of matching images: {len(matching_images)}\")\n",
    "print(f\"Number of images in DataFrame but missing in image folder: {len(missing_in_dataset)}\")\n",
    "print(f\"Number of extra images in dataset but not in DataFrame: {len(extra_in_dataset)}\")\n",
    "\n",
    "if missing_in_dataset:\n",
    "    print(\"Images in DataFrame but missing in image folder:\")\n",
    "    print(missing_in_dataset)\n",
    "\n",
    "if extra_in_dataset:\n",
    "    print(\"Images in dataset but not in DataFrame:\")\n",
    "    print(extra_in_dataset)"
   ]
  },
  {
   "cell_type": "code",
   "execution_count": 19,
   "id": "cb702534",
   "metadata": {
    "scrolled": true
   },
   "outputs": [],
   "source": [
    "from sklearn.model_selection import train_test_split\n",
    "\n",
    "# Create first validation set with the whole dataset\n",
    "train, df_valid = train_test_split(X, test_size=2000,\n",
    "                                   random_state=42,\n",
    "                                   stratify=X['label'])"
   ]
  },
  {
   "cell_type": "code",
   "execution_count": 20,
   "id": "02b12744",
   "metadata": {},
   "outputs": [],
   "source": [
    "# Create test and training set with the remaining dataset\n",
    "df_train, df_test = train_test_split(train,\n",
    "                                     test_size=2000,\n",
    "                                     random_state=42,\n",
    "                                     stratify=train['label'])"
   ]
  },
  {
   "cell_type": "code",
   "execution_count": 21,
   "id": "fc8324ee",
   "metadata": {},
   "outputs": [
    {
     "data": {
      "text/plain": [
       "(9736, 2000, 2000)"
      ]
     },
     "execution_count": 21,
     "metadata": {},
     "output_type": "execute_result"
    }
   ],
   "source": [
    "len(df_train), len(df_test), len(df_valid)"
   ]
  },
  {
   "cell_type": "code",
   "execution_count": 22,
   "id": "88349376",
   "metadata": {},
   "outputs": [
    {
     "data": {
      "text/plain": [
       "Yellow_Leaf_Virus     3584\n",
       "Late Blight           1369\n",
       "Septoria leaf spot    1255\n",
       "Healthy               1185\n",
       "Target Spot            995\n",
       "Leaf Mold              654\n",
       "Early Blight           303\n",
       "Mosaic Virus           264\n",
       "Bacterial Spot          62\n",
       "Black Mold              37\n",
       "Gray spot               28\n",
       "Name: label, dtype: int64"
      ]
     },
     "execution_count": 22,
     "metadata": {},
     "output_type": "execute_result"
    }
   ],
   "source": [
    "df_train['label'].value_counts()"
   ]
  },
  {
   "cell_type": "code",
   "execution_count": 23,
   "id": "d647c82b",
   "metadata": {
    "scrolled": false
   },
   "outputs": [
    {
     "name": "stdout",
     "output_type": "stream",
     "text": [
      "Directories created successfully!\n"
     ]
    }
   ],
   "source": [
    "# Define the parent folder where you want to create subdirectories\n",
    "parent_folder = Path('Tomato_dataset')  # Replace with the actual path\n",
    "\n",
    "# Define the names of the directories to create\n",
    "sub_dirs = ['train_dir', 'valid_dir', 'test_dir']\n",
    "\n",
    "# Loop through the subdirectory names and create them inside the parent folder\n",
    "for sub_dir in sub_dirs:\n",
    "    (parent_folder / sub_dir).mkdir(parents=True, exist_ok=True)\n",
    "\n",
    "print(\"Directories created successfully!\")"
   ]
  },
  {
   "cell_type": "code",
   "execution_count": 24,
   "id": "a9b1d250",
   "metadata": {},
   "outputs": [
    {
     "name": "stdout",
     "output_type": "stream",
     "text": [
      "Subdirectories created successfully!\n"
     ]
    }
   ],
   "source": [
    "# Define the names of the directories to create\n",
    "sub_dirs = ['train_dir', 'valid_dir', 'test_dir']\n",
    "\n",
    "# Class names\n",
    "class_names = ['Bacterial Spot', 'Black Mold', 'Gray spot', 'Late Blight',\n",
    "               'Early Blight', 'Leaf Mold', 'Septoria leaf spot', 'Target Spot',\n",
    "               'Yellow_Leaf_Virus', 'Mosaic Virus', 'Healthy']\n",
    "\n",
    "# Create subdirectories for each class inside train_dir, valid_dir, test_dir\n",
    "for sub_dir in sub_dirs:\n",
    "    for class_name in class_names:\n",
    "        class_folder = parent_folder / sub_dir / class_name\n",
    "        class_folder.mkdir(parents=True, exist_ok=True)\n",
    "\n",
    "print(\"Subdirectories created successfully!\")"
   ]
  },
  {
   "cell_type": "code",
   "execution_count": 25,
   "id": "554a2344",
   "metadata": {},
   "outputs": [],
   "source": [
    "train_folder = img_folder / 'train_dir' \n",
    "test_folder = img_folder / 'test_dir'\n",
    "valid_folder = img_folder / 'valid_dir'"
   ]
  },
  {
   "cell_type": "code",
   "execution_count": 26,
   "id": "38d09b7c",
   "metadata": {},
   "outputs": [],
   "source": [
    "# Reset and set index based on column\n",
    "df_train = df_train.sort_values(by=['name'], ignore_index=True)\n",
    "df_test = df_test.sort_values(by=['name'], ignore_index=True)\n",
    "df_valid = df_valid.sort_values(by=['name'], ignore_index=True)"
   ]
  },
  {
   "cell_type": "code",
   "execution_count": 27,
   "id": "09f0c612",
   "metadata": {
    "scrolled": true
   },
   "outputs": [],
   "source": [
    "# CREATE TRAIN DATASET\n",
    "#Loop over the image filenames by class labels\n",
    "for c in class_names:\n",
    "    #by class labels, loop through image name\n",
    "    for img in list(df_train[df_train.label == c]['name']):\n",
    "        # Get the path to image at source directory\n",
    "        get_img = img_folder/img\n",
    "        # Move the image to destination directory\n",
    "        move_img_to_categ = shutil.move(str(get_img), str(train_folder/c))"
   ]
  },
  {
   "cell_type": "code",
   "execution_count": 28,
   "id": "30792d93",
   "metadata": {},
   "outputs": [],
   "source": [
    "# CREATE TEST DATASET\n",
    "# Loop over the image filenames by class labels\n",
    "for c in class_names:\n",
    "    #by class labels, loop through image name\n",
    "    for img in list(df_test[df_test.label == c]['name']):\n",
    "        # Get the path to image at source directory\n",
    "        get_img = img_folder/img\n",
    "        # Move the image to destination directory\n",
    "        move_img_to_categ = shutil.move(str(get_img), str(test_folder/c))"
   ]
  },
  {
   "cell_type": "code",
   "execution_count": 29,
   "id": "494a5284",
   "metadata": {},
   "outputs": [],
   "source": [
    "# CREATE VALIDATION DATASET\n",
    "# # Loop over the image filenames by class labels\n",
    "for c in class_names:\n",
    "    #by class labels, loop through image name\n",
    "    for img in list(df_valid[df_valid.label == c]['name']):\n",
    "        # Get the path to image at source directory\n",
    "        get_img = img_folder/img\n",
    "        # Move the image to destination directory\n",
    "        move_img_to_categ = shutil.move(str(get_img), str(valid_folder/c))"
   ]
  },
  {
   "cell_type": "code",
   "execution_count": 30,
   "id": "ce3c0fa6",
   "metadata": {},
   "outputs": [],
   "source": [
    "from pathlib import Path\n",
    "\n",
    "# Create the path for Tomato folder\n",
    "img_folder=Path('Tomato_dataset')\n",
    "train_folder = Path(img_folder / 'train_dir')\n",
    "test_folder = Path(img_folder / 'test_dir')\n",
    "valid_folder = Path(img_folder / 'valid_dir')"
   ]
  },
  {
   "cell_type": "code",
   "execution_count": 31,
   "id": "66f8037f",
   "metadata": {},
   "outputs": [
    {
     "name": "stdout",
     "output_type": "stream",
     "text": [
      "Number of images in the Train Folder:  9736\n"
     ]
    }
   ],
   "source": [
    "number_image_train = len(list(train_folder.glob('*/*.jpg')))\n",
    "print('Number of images in the Train Folder: ', number_image_train)"
   ]
  },
  {
   "cell_type": "code",
   "execution_count": 32,
   "id": "662702fb",
   "metadata": {},
   "outputs": [
    {
     "name": "stdout",
     "output_type": "stream",
     "text": [
      "Number of images in the Test Folder:  2000\n"
     ]
    }
   ],
   "source": [
    "number_image_test = len(list(test_folder.glob('*/*.jpg')))\n",
    "print('Number of images in the Test Folder: ', number_image_test)"
   ]
  },
  {
   "cell_type": "code",
   "execution_count": 33,
   "id": "3687aebf",
   "metadata": {},
   "outputs": [
    {
     "name": "stdout",
     "output_type": "stream",
     "text": [
      "Number of images in the Validation Folder:  2000\n"
     ]
    }
   ],
   "source": [
    "number_image_valid = len(list(valid_folder.glob('*/*.jpg')))\n",
    "print('Number of images in the Validation Folder: ', number_image_valid)"
   ]
  },
  {
   "cell_type": "code",
   "execution_count": 34,
   "id": "7e4104d5",
   "metadata": {},
   "outputs": [
    {
     "data": {
      "text/plain": [
       "62"
      ]
     },
     "execution_count": 34,
     "metadata": {},
     "output_type": "execute_result"
    }
   ],
   "source": [
    "# Count of images from the  subfolder \n",
    "bacterial_spot = list(train_folder.glob('Bacterial Spot/*'))\n",
    "len(bacterial_spot)"
   ]
  },
  {
   "cell_type": "code",
   "execution_count": 35,
   "id": "12bad621",
   "metadata": {
    "scrolled": true
   },
   "outputs": [
    {
     "data": {
      "image/png": "[encoded data removed]",
      "text/plain": [
       "<Figure size 432x288 with 1 Axes>"
      ]
     },
     "metadata": {
      "needs_background": "light"
     },
     "output_type": "display_data"
    }
   ],
   "source": [
    "# Plot the first image in the bacterial_spot folder,\n",
    "img=Image.open(str(bacterial_spot[0]))\n",
    "plt.imshow(img)\n",
    "plt.axis('off')  # Remove axes for better visualization\n",
    "plt.title(\"First Image in Bacterial Spot Folder\")\n",
    "plt.show()"
   ]
  },
  {
   "cell_type": "code",
   "execution_count": 36,
   "id": "d05072eb",
   "metadata": {},
   "outputs": [
    {
     "name": "stdout",
     "output_type": "stream",
     "text": [
      "height:  227\n",
      "width:   227\n",
      "channel: 3\n"
     ]
    }
   ],
   "source": [
    "#size of image array\n",
    "image_array = np.array(img)\n",
    "h, w, c = image_array.shape\n",
    "print('height: ', h)\n",
    "print('width:  ', w)\n",
    "print('channel:', c)"
   ]
  },
  {
   "cell_type": "code",
   "execution_count": null,
   "id": "6cf4e2d4",
   "metadata": {},
   "outputs": [],
   "source": []
  }
 ],
 "metadata": {
  "kernelspec": {
   "display_name": "Python 3 (ipykernel)",
   "language": "python",
   "name": "python3"
  },
  "language_info": {
   "codemirror_mode": {
    "name": "ipython",
    "version": 3
   },
   "file_extension": ".py",
   "mimetype": "text/x-python",
   "name": "python",
   "nbconvert_exporter": "python",
   "pygments_lexer": "ipython3",
   "version": "3.9.12"
  }
 },
 "nbformat": 4,
 "nbformat_minor": 5
}
